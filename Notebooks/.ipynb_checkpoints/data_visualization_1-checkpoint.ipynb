{
 "cells": [
  {
   "cell_type": "markdown",
   "metadata": {},
   "source": [
    "# Data visualizations using R"
   ]
  },
  {
   "cell_type": "markdown",
   "metadata": {},
   "source": [
    "\n",
    "## Overview\n",
    "\n",
    "R is flexible. Often, there is more than one way to get something done. And this is true when considering visualizations as well. Broadly, there are 3 ways in which you can create visualizations in R:\n",
    "\n",
    "* Using `base` R: This refers to the set of commands and functionality available to the user without installing other packages. \n",
    "* Using the `lattice` package: Created by Deepayan Sarkar to elevate `base` R's graphing capabilities. Useful for visualizing multivariate data. \n",
    "* Using the `ggplot2` package: Created by Hadley Wickham as R's implementation of the *Grammar of Graphics*. While that might sound complicated, it is essentially a framework that allows the user to describe and construct visualizations in a *layered* manner. This [blog post](https://towardsdatascience.com/a-comprehensive-guide-to-the-grammar-of-graphics-for-effective-visualization-of-multi-dimensional-1f92b4ed4149) offers a great introduction to the philosophy of the *Grammar of Graphics*. \n",
    "\n",
    "The `ggplot2` package offers a tremendous amount of functionality and customizability. It is also the most popular graphing package used by R users, making it easy to find help online ([Stackoverflow](https://stackoverflow.com/) is your best friend). These advantages make it an obvious choice for creating graphs in R and we will be using it in this lesson. "
   ]
  },
  {
   "cell_type": "markdown",
   "metadata": {},
   "source": [
    "## Intro to `ggplot2`\n",
    "\n",
    "While it is challenging to briefly describe how a `ggplot2` graph works, fundamentally, it is the sum of 3 different parts:\n",
    "1. __Data__; such as a data frame. \n",
    "2. __Aesthetics__; used to specify the axis (x and y) variables. It is also used to customize the color, size, shape etc. of the data being graphed. \n",
    "3. __Geometry__; used to specify the type of graph we are interested in plotting, such as bar, line, density, scatter etc. \n",
    "\n",
    "\n",
    "If you have a fresh installation of R or have never used the `ggplot2` package, you will need to install it. But instead of installing the `ggplot2` package, we would recommend installing the `tidyverse` package. This will not only install `ggplot2`, but a whole bunch of cool stuff like `dplyr`, `readr`, `tidyr` etc. Similarly, loading `tidyverse` would mean that you are loading these packages all at once. Check [this](https://tidyverse.tidyverse.org/) out to see what installing and loading `tidyverse` does. "
   ]
  },
  {
   "cell_type": "markdown",
   "metadata": {},
   "source": [
    "<div class=\"alert alert-block alert-info\">\n",
    "\n",
    "<b>Tip: </b> It is good practice to load only those packages that are required. Packages require RAM, so loading more than what is required will eventually slow your computer down. Having said so, given the relatively small dataset we are working on, it is acceptable to load the entire `tidyverse` library. \n",
    "\n",
    "</div>"
   ]
  },
  {
   "cell_type": "code",
   "execution_count": null,
   "metadata": {
    "vscode": {
     "languageId": "r"
    }
   },
   "outputs": [],
   "source": [
    "# install.packages('tidyverse')         # We already have the package installed\n",
    "library(\"tidyverse\")\n"
   ]
  },
  {
   "cell_type": "markdown",
   "metadata": {},
   "source": [
    "\n",
    "Now that we are done with our initial setup, let us load the data we are going to plot. We will be using the EG DIB dataset. "
   ]
  },
  {
   "cell_type": "code",
   "execution_count": null,
   "metadata": {
    "vscode": {
     "languageId": "r"
    }
   },
   "outputs": [],
   "source": [
    "mydata <- read_csv(\"/Users/arkadeep/Dropbox (IDinsight)/Technical bootcamp online/Lessons/R/Data Visualization/Assets/2_data/EG_DIB.csv\", show_col_types = FALSE)\n"
   ]
  },
  {
   "cell_type": "markdown",
   "metadata": {},
   "source": [
    "\n",
    "We can see what the data looks like using the `head()` function. Assuming you are following this script on R Studio, you can click on the dataset in your environment pane. This will open the data frame for viewing in a tab. "
   ]
  },
  {
   "cell_type": "code",
   "execution_count": null,
   "metadata": {
    "vscode": {
     "languageId": "r"
    }
   },
   "outputs": [],
   "source": [
    "head(mydata)\n"
   ]
  },
  {
   "cell_type": "markdown",
   "metadata": {},
   "source": [
    "### A (very) basic graph\n",
    "\n",
    "Suppose we are interested in analyzing the correlation between baseline and endline (year 3) total scores. A quick and easy way to do this would be through a scatter graph.\n",
    "<br>\n",
    "<br>\n",
    "We begin by initializing a `ggplot` object. This is done using `ggplot()`. We will also provide the dataset that we want to work with. This will create an empty graph as you can see below. \n",
    "\n",
    "\n",
    "Yes, the package is called `ggplot2`, but the object is called `ggplot`. "
   ]
  },
  {
   "cell_type": "code",
   "execution_count": null,
   "metadata": {
    "vscode": {
     "languageId": "r"
    }
   },
   "outputs": [],
   "source": [
    "ggplot(data = mydata)\n"
   ]
  },
  {
   "cell_type": "markdown",
   "metadata": {},
   "source": [
    "We now need to provide the aesthetic mapping. Among other things, this will tell `ggplot` which variable will be displayed on each of the two axes. Let us put the baseline score on the x axis and the endline year 3 score on the y axis. "
   ]
  },
  {
   "cell_type": "code",
   "execution_count": null,
   "metadata": {
    "vscode": {
     "languageId": "r"
    }
   },
   "outputs": [],
   "source": [
    "ggplot(data = mydata, mapping = aes(x = total_bl_villavg, y = total_ely3_villavg))\n"
   ]
  },
  {
   "cell_type": "markdown",
   "metadata": {},
   "source": [
    "Our graph is starting to take shape! We now have the coordinate system that we are familiar with.   \n",
    "The command above is very detailed and can be made more concise. "
   ]
  },
  {
   "cell_type": "code",
   "execution_count": null,
   "metadata": {
    "vscode": {
     "languageId": "r"
    }
   },
   "outputs": [],
   "source": [
    "ggplot(mydata, aes(total_bl_villavg, total_ely3_villavg))\n"
   ]
  },
  {
   "cell_type": "markdown",
   "metadata": {},
   "source": [
    "While the above command works, we recommend that you explicitly mention the `x` and `y` mapping within the `aes` function. That will ensure that you don't mix up your axes."
   ]
  },
  {
   "cell_type": "code",
   "execution_count": null,
   "metadata": {
    "vscode": {
     "languageId": "r"
    }
   },
   "outputs": [],
   "source": [
    "ggplot(mydata, aes(x = total_bl_villavg, y = total_ely3_villavg))\n"
   ]
  },
  {
   "cell_type": "markdown",
   "metadata": {},
   "source": [
    "As mentioned previously, we want to create a scatter graph to plot the correlation between two variables. *Layering* is at the center of `ggplot` syntax. So we will add the scatter points by *layering* it on top of the graph that we have prepared thus far. This is achieved with the `+` operator.  "
   ]
  },
  {
   "cell_type": "code",
   "execution_count": null,
   "metadata": {
    "vscode": {
     "languageId": "r"
    }
   },
   "outputs": [],
   "source": [
    "ggplot(mydata, aes(x = total_bl_villavg, y = total_ely3_villavg)) +\n",
    "    geom_point()\n"
   ]
  },
  {
   "cell_type": "markdown",
   "metadata": {},
   "source": [
    "And just like that, we have a functional graph! However, before we do other things, let's unpack what is going on when we run the above command.       \n",
    "Here's the full set of parameters (along with their default arguments) that `geom_point()` can accommodate:   \n",
    "```R\n",
    "geom_point(\n",
    "  mapping = NULL,\n",
    "  data = NULL,\n",
    "  stat = \"identity\",\n",
    "  position = \"identity\",\n",
    "  ...,\n",
    "  na.rm = FALSE,\n",
    "  show.legend = NA,\n",
    "  inherit.aes = TRUE\n",
    ")\n",
    "```\n",
    "\n",
    "So it appears that we can pass numerous arguments inside `geom_point()`, but we are not passing anything and we are still getting a graph. So you might ask, how is this happening?   \n",
    "\n",
    "The `geom_point()` geometric object is *inheriting* the information it needs from the `ggplot()` object. If we look at the our `ggplot()` code, we can see that we have already provided information about three things: \n",
    "1. The dataset being used is `mydata`\n",
    "2. The x-axis variable is `total_bl_villavg`\n",
    "3. The y-axis variable is `total_ely3_villavg`\n",
    "\n",
    "Turns out, this is all we need to produce the scatter graph. Of course this is made possible by the `inherit.aes` argument having a default value of `TRUE`. If you run the following code block, you will get an error:\n",
    "```R\n",
    "ggplot(mydata, aes(x = total_bl_villavg, y = total_ely3_villavg)) +\n",
    "    geom_point(inherit.aes = FALSE)\n",
    "```\n",
    "So what if we didn't pass any arguments in `ggplot()`? Well, we would need to pass them in `geom_point()` like this:"
   ]
  },
  {
   "cell_type": "code",
   "execution_count": null,
   "metadata": {
    "vscode": {
     "languageId": "r"
    }
   },
   "outputs": [],
   "source": [
    "ggplot() +\n",
    "    geom_point(aes(x = total_bl_villavg, y = total_ely3_villavg), mydata)\n"
   ]
  },
  {
   "cell_type": "markdown",
   "metadata": {},
   "source": [
    "You might have noticed that we are writing the `aes` function *before* specifying the dataset. This is in line with how the parameters are ordered (see above). And yes, in case you are wondering, if we look at the  we can pass in `ggplot()`, the `data` parameter comes before the `mapping` parameter:  \n",
    "```R\n",
    "ggplot(data = NULL, mapping = aes(), ..., environment = parent.frame())\n",
    "```\n",
    "\n",
    "You can always manually specify *which* parameter you are referring to, and the order wont matter, as shown here:"
   ]
  },
  {
   "cell_type": "code",
   "execution_count": null,
   "metadata": {
    "vscode": {
     "languageId": "r"
    }
   },
   "outputs": [],
   "source": [
    "ggplot() +\n",
    "    geom_point(data = mydata, aes(x = total_bl_villavg, y = total_ely3_villavg))\n"
   ]
  },
  {
   "cell_type": "markdown",
   "metadata": {},
   "source": [
    "<div class=\"alert alert-block alert-info\">\n",
    "    \n",
    "Note the difference between parameters and arguments:   \n",
    "<b>Function parameters</b> are the names listed in the function's definition.    \n",
    "<b>Function arguments</b> are the real values passed to the function. Parameters are initialized to the values of the arguments supplied.\n",
    "\n",
    "</div>"
   ]
  },
  {
   "cell_type": "markdown",
   "metadata": {},
   "source": [
    "Now, you might be wondering, why bother *ever* passing arguments to the `ggplot()` object?   \n",
    "The answer is efficiency. Let's see how.    \n",
    "Assume now that we want to add a fitted line as well. We would need to use the `geom_smooth()` object. As with the `geom_point()` object, we will add it as a layer. Let's also get rid of that warning message by setting the `na.rm` parameter as `TRUE` for both geometric objects. "
   ]
  },
  {
   "cell_type": "code",
   "execution_count": null,
   "metadata": {
    "vscode": {
     "languageId": "r"
    }
   },
   "outputs": [],
   "source": [
    "ggplot(mydata, aes(x = total_bl_villavg, y = total_ely3_villavg)) +\n",
    "    geom_point(na.rm = TRUE) +\n",
    "    geom_smooth(method = lm, formula = y ~ x, na.rm = TRUE)\n"
   ]
  },
  {
   "cell_type": "markdown",
   "metadata": {},
   "source": [
    "Before we discuss the parameters that we *have* used, notice what we did not use. Since we have already specified the dataset along with the x and y axis aesthetic mapping in the base `ggplot()` object, we no longer have to pass the same information to any geometric objects we use after that. So if you have information which is going to be reused by several geometric objects, it is good practice to pass it inside the `ggplot()` object.\n",
    "<br>\n",
    "<br>\n",
    "We have used two new parameters in the `geom_smooth()` object:\n",
    "1. `method` allows us to specify what kind of model we want to run. Here we have entered `lm`, which stands for a linear model. \n",
    "2. `formula` allows us to specify the regression equation. Here the the dependent variable is `y` and we have only one independent variable `x`. "
   ]
  },
  {
   "cell_type": "markdown",
   "metadata": {},
   "source": [
    "<div class=\"alert alert-block alert-warning\">\n",
    "\n",
    "Quick note on syntax: The `+` operator must appear at the end of the line. The following code will return an error:\n",
    "    \n",
    "```R\n",
    "ggplot(mydata, aes(x = total_bl_villavg, y = total_ely3_villavg)) \n",
    "    + geom_point() +\n",
    "    geom_smooth(method = lm, formula = y ~ x)\n",
    "```\n",
    "\n",
    "</div>"
   ]
  },
  {
   "cell_type": "markdown",
   "metadata": {},
   "source": [
    "### Customizing aesthetics\n",
    "\n",
    "We have only scratched the surface of what the `aes` parameter can do. In `ggplot`, the aesthetic is a mapping between variable and a visual cue. Some of the common aesthetics we can control include: \n",
    "* __Position (i.e., on the x and y axes)__\n",
    "* Color (“outside” color)\n",
    "* Fill (“inside” color)\n",
    "* Shape (of points)\n",
    "* Line type\n",
    "* Size\n",
    "\n",
    "Let's add a few of the unused ones in our graph.\n",
    "#### `color`\n",
    "Can be used show which points belong to the treatment and control groups. "
   ]
  },
  {
   "cell_type": "code",
   "execution_count": null,
   "metadata": {
    "vscode": {
     "languageId": "r"
    }
   },
   "outputs": [],
   "source": [
    "ggplot(mydata, aes(x = total_bl_villavg, y = total_ely3_villavg)) +\n",
    "    geom_point(aes(color = treatment), na.rm = TRUE) +\n",
    "    geom_smooth(method = lm, formula = y ~ x, na.rm = TRUE)\n"
   ]
  },
  {
   "cell_type": "markdown",
   "metadata": {},
   "source": [
    "The points now have two colors, corresponding to their treatment status. However legend is presented as a continuous scale of colors, even though only two shades of blue are plotted (light and dark blue). This is happening because `ggplot` does not explicitly know that treatment status only has two values, 0 and 1. `ggplot` is handling the `treatment` variable as a continuous variable, where it could take *any* value between 0 and 1, such as 0.1, 0.78, 0.81 etc. We can ask `ggplot` to handle `treatment` as a discrete variable by using the `factor()` function."
   ]
  },
  {
   "cell_type": "code",
   "execution_count": null,
   "metadata": {
    "vscode": {
     "languageId": "r"
    }
   },
   "outputs": [],
   "source": [
    "ggplot(mydata, aes(x = total_bl_villavg, y = total_ely3_villavg)) +\n",
    "    geom_point(aes(color = factor(treatment)), na.rm = TRUE) +\n",
    "    geom_smooth(method = lm, formula = y ~ x, na.rm = TRUE)\n"
   ]
  },
  {
   "cell_type": "markdown",
   "metadata": {},
   "source": [
    "#### `size`\n",
    "Can be used to show the number of students."
   ]
  },
  {
   "cell_type": "code",
   "execution_count": null,
   "metadata": {
    "vscode": {
     "languageId": "r"
    }
   },
   "outputs": [],
   "source": [
    "ggplot(mydata, aes(x = total_bl_villavg, y = total_ely3_villavg)) +\n",
    "    geom_point(aes(color = factor(treatment), size = number_students), na.rm = TRUE) +\n",
    "    geom_smooth(method = lm, formula = y ~ x, na.rm = TRUE)\n"
   ]
  },
  {
   "cell_type": "markdown",
   "metadata": {},
   "source": [
    "#### `shape`\n",
    "Can be used to display information such as the district in which the village is located in. Our dataset currently does not have district information, so let's add it. Since the district variable is discrete, that is, a value of 1.2 does not make sense, we will include it as a factor. "
   ]
  },
  {
   "cell_type": "code",
   "execution_count": null,
   "metadata": {
    "vscode": {
     "languageId": "r"
    }
   },
   "outputs": [],
   "source": [
    "mydata$district <- factor(sample.int(3, nrow(mydata), replace = T))\n",
    "head(mydata)\n"
   ]
  },
  {
   "cell_type": "code",
   "execution_count": null,
   "metadata": {
    "vscode": {
     "languageId": "r"
    }
   },
   "outputs": [],
   "source": [
    "ggplot(mydata, aes(x = total_bl_villavg, y = total_ely3_villavg)) +\n",
    "    geom_point(aes(\n",
    "        color = factor(treatment), size = number_students,\n",
    "        shape = district\n",
    "    ), na.rm = TRUE) +\n",
    "    geom_smooth(method = lm, formula = y ~ x, na.rm = TRUE)\n"
   ]
  },
  {
   "cell_type": "markdown",
   "metadata": {},
   "source": [
    "We have created a graph which takes advantage of the following aesthetics:\n",
    "1. Position\n",
    "2. Color\n",
    "3. Size\n",
    "4. Shape\n",
    "\n",
    "However, just because we can, doesn't mean that we should include each and every possible aesthetic. Inclusion and exclusion of aesthetic mappings should be dependent on what information we are trying to convey. In this example, it is probably most informative if we only keep the `color` aesthetic to show the split between treatment and control villages. "
   ]
  },
  {
   "cell_type": "code",
   "execution_count": null,
   "metadata": {
    "vscode": {
     "languageId": "r"
    }
   },
   "outputs": [],
   "source": [
    "ggplot(mydata, aes(x = total_bl_villavg, y = total_ely3_villavg)) +\n",
    "    geom_point(aes(color = factor(treatment)), na.rm = TRUE) +\n",
    "    geom_smooth(method = lm, formula = y ~ x, na.rm = TRUE)\n"
   ]
  },
  {
   "cell_type": "markdown",
   "metadata": {},
   "source": [
    "#### Visual modifications without `aes`\n",
    "\n",
    "`ggplot` also allows us to modify how the data is plotting without mapping a variable to a particular aesthetic. For example, we can manually set the `color`, `size` and `shape` of the points."
   ]
  },
  {
   "cell_type": "code",
   "execution_count": null,
   "metadata": {
    "vscode": {
     "languageId": "r"
    }
   },
   "outputs": [],
   "source": [
    "ggplot(mydata, aes(x = total_bl_villavg, y = total_ely3_villavg)) +\n",
    "    geom_point(aes(color = factor(treatment)),\n",
    "        color = \"brown\",\n",
    "        size = 3,\n",
    "        shape = \"square\",\n",
    "        na.rm = TRUE\n",
    "    ) +\n",
    "    geom_smooth(method = lm, formula = y ~ x, na.rm = TRUE)\n"
   ]
  },
  {
   "cell_type": "markdown",
   "metadata": {},
   "source": [
    "Note that the `color` specified through the `aes` mapping is suppressed if we manually set these arguments. "
   ]
  },
  {
   "cell_type": "markdown",
   "metadata": {},
   "source": [
    "### Common graph overlays\n",
    "\n",
    "Some common graph overlays include:\n",
    "1. Fitted lines\n",
    "2. Confidence intervals\n",
    "3. Reference lines\n",
    "4. Text\n",
    "\n",
    "We have already added a fitted line and its corresponding CI envelope thanks to the `geom_smooth` object. But here are a few ways it can be modified:\n",
    "* __Multiple fitted lines according to treatment status__"
   ]
  },
  {
   "cell_type": "code",
   "execution_count": null,
   "metadata": {
    "vscode": {
     "languageId": "r"
    }
   },
   "outputs": [],
   "source": [
    "ggplot(mydata, aes(x = total_bl_villavg, y = total_ely3_villavg)) +\n",
    "    geom_point(aes(color = factor(treatment)), na.rm = TRUE) +\n",
    "    geom_smooth(aes(color = factor(treatment)),\n",
    "        method = lm, formula = y ~ x,\n",
    "        na.rm = TRUE\n",
    "    )\n"
   ]
  },
  {
   "cell_type": "markdown",
   "metadata": {},
   "source": [
    "* __Changing the level of the confidence interval__ (`level`; default is 95%)"
   ]
  },
  {
   "cell_type": "code",
   "execution_count": null,
   "metadata": {
    "vscode": {
     "languageId": "r"
    }
   },
   "outputs": [],
   "source": [
    "ggplot(mydata, aes(x = total_bl_villavg, y = total_ely3_villavg)) +\n",
    "    geom_point(aes(color = factor(treatment)), na.rm = TRUE) +\n",
    "    geom_smooth(aes(color = factor(treatment)),\n",
    "        method = lm, formula = y ~ x, level = 0.99,\n",
    "        na.rm = TRUE\n",
    "    )\n"
   ]
  },
  {
   "cell_type": "markdown",
   "metadata": {},
   "source": [
    "* __Changing the shade of the confidence interval__ (`fill`)"
   ]
  },
  {
   "cell_type": "code",
   "execution_count": null,
   "metadata": {
    "vscode": {
     "languageId": "r"
    }
   },
   "outputs": [],
   "source": [
    "ggplot(mydata, aes(x = total_bl_villavg, y = total_ely3_villavg)) +\n",
    "    geom_point(aes(color = factor(treatment)), na.rm = TRUE) +\n",
    "    geom_smooth(aes(color = factor(treatment)),\n",
    "        method = lm, formula = y ~ x, level = 0.99, fill = \"grey10\",\n",
    "        na.rm = TRUE\n",
    "    )\n"
   ]
  },
  {
   "cell_type": "markdown",
   "metadata": {},
   "source": [
    "* __Hiding the confidence interval__ (`se`)"
   ]
  },
  {
   "cell_type": "code",
   "execution_count": null,
   "metadata": {
    "vscode": {
     "languageId": "r"
    }
   },
   "outputs": [],
   "source": [
    "ggplot(mydata, aes(x = total_bl_villavg, y = total_ely3_villavg)) +\n",
    "    geom_point(aes(color = factor(treatment)), na.rm = TRUE) +\n",
    "    geom_smooth(aes(color = factor(treatment)),\n",
    "        method = lm, formula = y ~ x, level = 0.99, fill = \"grey10\", se = FALSE,\n",
    "        na.rm = TRUE\n",
    "    )\n"
   ]
  },
  {
   "cell_type": "markdown",
   "metadata": {},
   "source": [
    "#### Reference lines\n",
    "\n",
    "__`geom_vline` for vertical lines__"
   ]
  },
  {
   "cell_type": "code",
   "execution_count": null,
   "metadata": {
    "vscode": {
     "languageId": "r"
    }
   },
   "outputs": [],
   "source": [
    "ggplot(mydata, aes(x = total_bl_villavg, y = total_ely3_villavg)) +\n",
    "    geom_point(aes(color = factor(treatment)), na.rm = TRUE) +\n",
    "    geom_smooth(method = lm, formula = y ~ x, na.rm = TRUE) +\n",
    "    geom_vline(xintercept = 8)\n"
   ]
  },
  {
   "cell_type": "markdown",
   "metadata": {},
   "source": [
    "You can also add several lines at once:"
   ]
  },
  {
   "cell_type": "code",
   "execution_count": null,
   "metadata": {
    "vscode": {
     "languageId": "r"
    }
   },
   "outputs": [],
   "source": [
    "ggplot(mydata, aes(x = total_bl_villavg, y = total_ely3_villavg)) +\n",
    "    geom_point(aes(color = factor(treatment)), na.rm = TRUE) +\n",
    "    geom_smooth(method = lm, formula = y ~ x, na.rm = TRUE) +\n",
    "    geom_vline(xintercept = 8:10)\n"
   ]
  },
  {
   "cell_type": "markdown",
   "metadata": {},
   "source": [
    "Change the color:"
   ]
  },
  {
   "cell_type": "code",
   "execution_count": null,
   "metadata": {
    "vscode": {
     "languageId": "r"
    }
   },
   "outputs": [],
   "source": [
    "ggplot(mydata, aes(x = total_bl_villavg, y = total_ely3_villavg)) +\n",
    "    geom_point(aes(color = factor(treatment)), na.rm = TRUE) +\n",
    "    geom_smooth(method = lm, formula = y ~ x, na.rm = TRUE) +\n",
    "    geom_vline(\n",
    "        xintercept = 8:10,\n",
    "        color = \"purple\"\n",
    "    )\n"
   ]
  },
  {
   "cell_type": "markdown",
   "metadata": {},
   "source": [
    "Change the line type:"
   ]
  },
  {
   "cell_type": "code",
   "execution_count": null,
   "metadata": {
    "vscode": {
     "languageId": "r"
    }
   },
   "outputs": [],
   "source": [
    "ggplot(mydata, aes(x = total_bl_villavg, y = total_ely3_villavg)) +\n",
    "    geom_point(aes(color = factor(treatment)), na.rm = TRUE) +\n",
    "    geom_smooth(method = lm, formula = y ~ x, na.rm = TRUE) +\n",
    "    geom_vline(\n",
    "        xintercept = 8:10,\n",
    "        color = \"purple\",\n",
    "        linetype = 8\n",
    "    )\n"
   ]
  },
  {
   "cell_type": "markdown",
   "metadata": {},
   "source": [
    "__`geom_hline` for horizontal lines__"
   ]
  },
  {
   "cell_type": "code",
   "execution_count": null,
   "metadata": {
    "vscode": {
     "languageId": "r"
    }
   },
   "outputs": [],
   "source": [
    "ggplot(mydata, aes(x = total_bl_villavg, y = total_ely3_villavg)) +\n",
    "    geom_point(aes(color = factor(treatment)), na.rm = TRUE) +\n",
    "    geom_smooth(method = lm, formula = y ~ x, na.rm = TRUE) +\n",
    "    geom_vline(xintercept = 8) +\n",
    "    geom_hline(yintercept = 12)\n"
   ]
  },
  {
   "cell_type": "markdown",
   "metadata": {},
   "source": [
    "__`geom_abline` for lines with slope and intercept__   \n",
    "A 45&deg; line has a slope of 1"
   ]
  },
  {
   "cell_type": "code",
   "execution_count": null,
   "metadata": {
    "vscode": {
     "languageId": "r"
    }
   },
   "outputs": [],
   "source": [
    "ggplot(mydata, aes(x = total_bl_villavg, y = total_ely3_villavg)) +\n",
    "    geom_point(aes(color = factor(treatment)), na.rm = TRUE) +\n",
    "    geom_smooth(method = lm, formula = y ~ x, na.rm = TRUE) +\n",
    "    geom_vline(xintercept = 8) +\n",
    "    geom_hline(yintercept = 12) +\n",
    "    geom_abline(slope = 1, intercept = 0)\n"
   ]
  },
  {
   "cell_type": "markdown",
   "metadata": {},
   "source": [
    "__`geom_segment`__ for line segments"
   ]
  },
  {
   "cell_type": "code",
   "execution_count": null,
   "metadata": {
    "vscode": {
     "languageId": "r"
    }
   },
   "outputs": [],
   "source": [
    "ggplot(mydata, aes(x = total_bl_villavg, y = total_ely3_villavg)) +\n",
    "    geom_point(aes(color = factor(treatment)), na.rm = TRUE) +\n",
    "    geom_smooth(method = lm, formula = y ~ x, na.rm = TRUE) +\n",
    "    geom_vline(xintercept = 8) +\n",
    "    geom_hline(yintercept = 12) +\n",
    "    geom_abline(slope = 1, intercept = 0) +\n",
    "    geom_segment(\n",
    "        x = 5, y = 14,\n",
    "        xend = 7.5, yend = 14.45,\n",
    "        color = 2\n",
    "    )\n"
   ]
  },
  {
   "cell_type": "markdown",
   "metadata": {},
   "source": [
    "Use the `arrow` parameter if you want to add an arrow at the end of the line segment:"
   ]
  },
  {
   "cell_type": "code",
   "execution_count": null,
   "metadata": {
    "vscode": {
     "languageId": "r"
    }
   },
   "outputs": [],
   "source": [
    "ggplot(mydata, aes(x = total_bl_villavg, y = total_ely3_villavg)) +\n",
    "    geom_point(aes(color = factor(treatment)), na.rm = TRUE) +\n",
    "    geom_smooth(method = lm, formula = y ~ x, na.rm = TRUE) +\n",
    "    geom_vline(xintercept = 8) +\n",
    "    geom_hline(yintercept = 12) +\n",
    "    geom_abline(slope = 1, intercept = 0) +\n",
    "    geom_segment(\n",
    "        x = 5, y = 14,\n",
    "        xend = 7.5, yend = 14.45,\n",
    "        color = 2,\n",
    "        arrow = arrow()\n",
    "    )\n"
   ]
  },
  {
   "cell_type": "markdown",
   "metadata": {},
   "source": [
    "__`geom_curve`__ for curves"
   ]
  },
  {
   "cell_type": "code",
   "execution_count": null,
   "metadata": {
    "vscode": {
     "languageId": "r"
    }
   },
   "outputs": [],
   "source": [
    "ggplot(mydata, aes(x = total_bl_villavg, y = total_ely3_villavg)) +\n",
    "    geom_point(aes(color = factor(treatment)), na.rm = TRUE) +\n",
    "    geom_smooth(method = lm, formula = y ~ x, na.rm = TRUE) +\n",
    "    geom_segment(\n",
    "        x = 5, y = 14,\n",
    "        xend = 7.5, yend = 14.45,\n",
    "        color = 2,\n",
    "        arrow = arrow()\n",
    "    ) +\n",
    "    geom_curve(\n",
    "        x = 6.8, y = 6.25,\n",
    "        xend = 8.9, yend = 8.75,\n",
    "        color = 4\n",
    "    )\n"
   ]
  },
  {
   "cell_type": "markdown",
   "metadata": {},
   "source": [
    "We can change the curvature using the `curvature` parameter. Positive values will produce a right-hand curve:"
   ]
  },
  {
   "cell_type": "code",
   "execution_count": null,
   "metadata": {
    "vscode": {
     "languageId": "r"
    }
   },
   "outputs": [],
   "source": [
    "ggplot(mydata, aes(x = total_bl_villavg, y = total_ely3_villavg)) +\n",
    "    geom_point(aes(color = factor(treatment)), na.rm = TRUE) +\n",
    "    geom_smooth(method = lm, formula = y ~ x, na.rm = TRUE) +\n",
    "    geom_segment(\n",
    "        x = 5, y = 14,\n",
    "        xend = 7.5, yend = 14.45,\n",
    "        color = 2,\n",
    "        arrow = arrow()\n",
    "    ) +\n",
    "    geom_curve(\n",
    "        x = 6.8, y = 6.25,\n",
    "        xend = 8.9, yend = 8.75,\n",
    "        color = 4,\n",
    "        curvature = 1\n",
    "    )\n"
   ]
  },
  {
   "cell_type": "markdown",
   "metadata": {},
   "source": [
    "Negative values will produce a left-hand curve:"
   ]
  },
  {
   "cell_type": "code",
   "execution_count": null,
   "metadata": {
    "vscode": {
     "languageId": "r"
    }
   },
   "outputs": [],
   "source": [
    "ggplot(mydata, aes(x = total_bl_villavg, y = total_ely3_villavg)) +\n",
    "    geom_point(aes(color = factor(treatment)), na.rm = TRUE) +\n",
    "    geom_smooth(method = lm, formula = y ~ x, na.rm = TRUE) +\n",
    "    geom_segment(\n",
    "        x = 5, y = 14,\n",
    "        xend = 7.5, yend = 14.45,\n",
    "        color = 2,\n",
    "        arrow = arrow()\n",
    "    ) +\n",
    "    geom_curve(\n",
    "        x = 6.8, y = 6.25,\n",
    "        xend = 8.9, yend = 8.75,\n",
    "        color = 4,\n",
    "        curvature = -1\n",
    "    )\n"
   ]
  },
  {
   "cell_type": "markdown",
   "metadata": {},
   "source": [
    "And similar to `geom_segment`, we can add an arrow using the `arrow` parameter:"
   ]
  },
  {
   "cell_type": "code",
   "execution_count": null,
   "metadata": {
    "vscode": {
     "languageId": "r"
    }
   },
   "outputs": [],
   "source": [
    "ggplot(mydata, aes(x = total_bl_villavg, y = total_ely3_villavg)) +\n",
    "    geom_point(aes(color = factor(treatment)), na.rm = TRUE) +\n",
    "    geom_smooth(method = lm, formula = y ~ x, na.rm = TRUE) +\n",
    "    geom_segment(\n",
    "        x = 5, y = 14,\n",
    "        xend = 7.5, yend = 14.45,\n",
    "        color = 2,\n",
    "        arrow = arrow()\n",
    "    ) +\n",
    "    geom_curve(\n",
    "        x = 6.8, y = 6.25,\n",
    "        xend = 8.9, yend = 8.75,\n",
    "        color = 4,\n",
    "        arrow = arrow()\n",
    "    )\n"
   ]
  },
  {
   "cell_type": "markdown",
   "metadata": {},
   "source": [
    "#### Text\n",
    "We can also add the slope and standard error on the plot region. However to achieve this, we will need to store the values in variables. "
   ]
  },
  {
   "cell_type": "code",
   "execution_count": null,
   "metadata": {
    "vscode": {
     "languageId": "r"
    }
   },
   "outputs": [],
   "source": [
    "model <- lm(total_ely3_villavg ~ total_bl_villavg, data = mydata)\n",
    "model_summary <- summary(model)\n",
    "model_summary\n",
    "\n",
    "slope <- round(model_summary$coefficients[2, 1], 2)\n",
    "se <- round(model_summary$coefficients[2, 2], 2)\n",
    "print(paste0(\"The slope is \", slope, \", the SE is \", se))\n"
   ]
  },
  {
   "cell_type": "code",
   "execution_count": null,
   "metadata": {
    "vscode": {
     "languageId": "r"
    }
   },
   "outputs": [],
   "source": [
    "ggplot(mydata, aes(x = total_bl_villavg, y = total_ely3_villavg)) +\n",
    "    geom_point(aes(color = factor(treatment)), na.rm = TRUE) +\n",
    "    geom_smooth(method = lm, formula = y ~ x, na.rm = TRUE) +\n",
    "    annotate(\n",
    "        geom = \"label\", x = 10, y = 15,\n",
    "        label = paste0(\"Slope: \", slope, \"\\n(\", se, \")\"),\n",
    "        size = 4.5\n",
    "    )\n"
   ]
  },
  {
   "cell_type": "markdown",
   "metadata": {},
   "source": [
    "### Storing and exporting graphs\n",
    "\n",
    "Let's revisit the first graph we created."
   ]
  },
  {
   "cell_type": "code",
   "execution_count": null,
   "metadata": {
    "vscode": {
     "languageId": "r"
    }
   },
   "outputs": [],
   "source": [
    "ggplot(mydata, aes(x = total_bl_villavg, y = total_ely3_villavg)) +\n",
    "    geom_point(na.rm = TRUE)\n"
   ]
  },
  {
   "cell_type": "markdown",
   "metadata": {},
   "source": [
    "We can store this graph in a named geometric object. "
   ]
  },
  {
   "cell_type": "code",
   "execution_count": null,
   "metadata": {
    "vscode": {
     "languageId": "r"
    }
   },
   "outputs": [],
   "source": [
    "plot1 <- ggplot(mydata, aes(x = total_bl_villavg, y = total_ely3_villavg)) +\n",
    "    geom_point(na.rm = TRUE)\n"
   ]
  },
  {
   "cell_type": "markdown",
   "metadata": {},
   "source": [
    "By doing so, we no longer need to run the code to display the graph again. We can simply refer to it using the name of the object we stored it in."
   ]
  },
  {
   "cell_type": "code",
   "execution_count": null,
   "metadata": {
    "vscode": {
     "languageId": "r"
    }
   },
   "outputs": [],
   "source": [
    "plot1\n"
   ]
  },
  {
   "cell_type": "markdown",
   "metadata": {},
   "source": [
    "If we want to add layers, we can add them to `plot1`."
   ]
  },
  {
   "cell_type": "code",
   "execution_count": null,
   "metadata": {
    "vscode": {
     "languageId": "r"
    }
   },
   "outputs": [],
   "source": [
    "plot1 +\n",
    "    geom_smooth(method = lm, formula = y ~ x, na.rm = TRUE)\n"
   ]
  },
  {
   "cell_type": "markdown",
   "metadata": {},
   "source": [
    "Important to note however that we haven't changed `plot1` with the above command."
   ]
  },
  {
   "cell_type": "code",
   "execution_count": null,
   "metadata": {
    "vscode": {
     "languageId": "r"
    }
   },
   "outputs": [],
   "source": [
    "plot1\n"
   ]
  },
  {
   "cell_type": "markdown",
   "metadata": {},
   "source": [
    "If we want `plot1` to include the `geom_smooth` layer, we will have to assign it."
   ]
  },
  {
   "cell_type": "code",
   "execution_count": null,
   "metadata": {
    "vscode": {
     "languageId": "r"
    }
   },
   "outputs": [],
   "source": [
    "plot1 <- plot1 +\n",
    "        geom_smooth(method = lm, formula = y ~ x, na.rm = TRUE)\n",
    "plot1\n"
   ]
  },
  {
   "cell_type": "markdown",
   "metadata": {},
   "source": [
    "We can export graphs using the `ggsave` command."
   ]
  },
  {
   "cell_type": "code",
   "execution_count": null,
   "metadata": {
    "vscode": {
     "languageId": "r"
    }
   },
   "outputs": [],
   "source": [
    "ggsave(\"~/Dropbox (IDinsight)/Technical bootcamp online/Lessons/R/Data Visualization/Exports/plot1.png\")\n"
   ]
  },
  {
   "cell_type": "markdown",
   "metadata": {},
   "source": [
    "By default `ggsave` saves the last plot was shown. If we have multiple plots and want to save a plot that was created previously, we will need to use the `plot` parameter and specify the plot name. "
   ]
  },
  {
   "cell_type": "code",
   "execution_count": null,
   "metadata": {
    "vscode": {
     "languageId": "r"
    }
   },
   "outputs": [],
   "source": [
    "ggsave(\"~/Dropbox (IDinsight)/Technical bootcamp online/Lessons/R/Data Visualization/Exports/plot1.png\",\n",
    "       plot = plot1\n",
    ")\n"
   ]
  },
  {
   "cell_type": "markdown",
   "metadata": {},
   "source": [
    "### Credits\n",
    "\n",
    "This lesson was inspired by content from the following:  \n",
    "\n",
    "1. [Statistical tools for high-throughput data analysis](http://www.sthda.com/english/wiki/be-awesome-in-ggplot2-a-practical-guide-to-be-highly-effective-r-software-and-data-visualization)\n",
    "2. [Graphics with ggplot2](https://beanumber.github.io/sds192/lab-ggplot2.html#:~:text=In%20ggplot2%20%2C%20aesthetic%20means%20%E2%80%9Csomething,color%20(%E2%80%9Coutside%E2%80%9D%20color))"
   ]
  }
 ],
 "metadata": {
  "kernelspec": {
   "display_name": "R",
   "language": "R",
   "name": "ir"
  },
  "language_info": {
   "codemirror_mode": "r",
   "file_extension": ".r",
   "mimetype": "text/x-r-source",
   "name": "R",
   "pygments_lexer": "r",
   "version": "4.0.3"
  }
 },
 "nbformat": 4,
 "nbformat_minor": 4
}
