{
 "cells": [
  {
   "cell_type": "markdown",
   "metadata": {},
   "source": [
    "# Data visualizations using R"
   ]
  },
  {
   "cell_type": "markdown",
   "metadata": {},
   "source": [
    "## Customizing `ggplot` graphs #2\n",
    "\n",
    "In this lesson, we will discuss non-data visual changes to our graphs using the [`theme()`](https://ggplot2.tidyverse.org/reference/theme.html) layer.  \n",
    "Let's start by recreating the graph from the previous section. "
   ]
  },
  {
   "cell_type": "code",
   "execution_count": null,
   "metadata": {
    "vscode": {
     "languageId": "r"
    }
   },
   "outputs": [],
   "source": [
    "library(\"tidyverse\")\n",
    "\n",
    "mydata <- read_csv(\"https://raw.githubusercontent.com/arkadeep/R-Bootcamp-Data-Visualization/main/Assets/2_data/EG_DIB.csv\", show_col_types = FALSE)\n",
    "mydata$district <- factor(sample.int(3, nrow(mydata), replace = T))\n",
    "\n",
    "labs <- c(\"1\" = \"Treatment\", \"0\" = \"Control\")\n",
    "colors <- c(\"0\" = \"red\", \"1\" = \"green\")\n",
    "labs_district <- c(\"1\" = \"D1\", \"2\" = \"D2\", \"3\" = \"D3\")\n",
    "\n",
    "\n",
    "plot1 <- ggplot(mydata, aes(x = total_bl_villavg, y = total_ely3_villavg)) +\n",
    "       geom_point(aes(color = factor(treatment), shape = district), na.rm = TRUE) +\n",
    "       geom_smooth(method = lm, formula = y ~ x, na.rm = TRUE) +\n",
    "       scale_x_continuous(breaks = seq(from = 4, to = 12, by = 1.5)) +\n",
    "       scale_y_continuous(breaks = seq(from = 5, to = 16, by = 1.5)) +\n",
    "       scale_color_manual(\n",
    "              values = colors,\n",
    "              labels = labs,\n",
    "              name = \"Group\"\n",
    "       ) +\n",
    "       scale_shape_manual(\n",
    "              values = c(3, 9, 17),\n",
    "              name = \"District\",\n",
    "              labels = labs_district\n",
    "       ) +\n",
    "       guides(\n",
    "              color = guide_legend(title = \"Color aesthetic\"),\n",
    "              shape = guide_legend(title = \"Shape aesthetic\")\n",
    "       ) +\n",
    "       labs(\n",
    "              title = \"Our graph\",\n",
    "              subtitle = \"Our graph has a subtitle\",\n",
    "              caption = \"A caption too!\",\n",
    "              x = \"Baseline total\",\n",
    "              y = \"Endline Year 3 total\"\n",
    "       )\n",
    "\n",
    "plot1"
   ]
  },
  {
   "cell_type": "markdown",
   "metadata": {},
   "source": [
    "`ggplot` comes inbuilt with several default themes. "
   ]
  },
  {
   "cell_type": "code",
   "execution_count": null,
   "metadata": {
    "vscode": {
     "languageId": "r"
    }
   },
   "outputs": [],
   "source": [
    "plot1 + theme_bw()"
   ]
  },
  {
   "cell_type": "code",
   "execution_count": null,
   "metadata": {
    "vscode": {
     "languageId": "r"
    }
   },
   "outputs": [],
   "source": [
    "plot1 + theme_dark()"
   ]
  },
  {
   "cell_type": "code",
   "execution_count": null,
   "metadata": {
    "vscode": {
     "languageId": "r"
    }
   },
   "outputs": [],
   "source": [
    "plot1 + theme_linedraw()"
   ]
  },
  {
   "cell_type": "code",
   "execution_count": null,
   "metadata": {
    "vscode": {
     "languageId": "r"
    }
   },
   "outputs": [],
   "source": [
    "plot1 + theme_light()"
   ]
  },
  {
   "cell_type": "code",
   "execution_count": null,
   "metadata": {
    "vscode": {
     "languageId": "r"
    }
   },
   "outputs": [],
   "source": [
    "plot1 + theme_minimal()"
   ]
  },
  {
   "cell_type": "code",
   "execution_count": null,
   "metadata": {
    "vscode": {
     "languageId": "r"
    }
   },
   "outputs": [],
   "source": [
    "plot1 + theme_classic()"
   ]
  },
  {
   "cell_type": "code",
   "execution_count": null,
   "metadata": {
    "vscode": {
     "languageId": "r"
    }
   },
   "outputs": [],
   "source": [
    "plot1 + theme_void()"
   ]
  },
  {
   "cell_type": "markdown",
   "metadata": {},
   "source": [
    "Each `theme_xxx` function cam take two arguments: \n",
    "1. `base_size`: to change the font size\n",
    "2. `base_family`: to change the font face"
   ]
  },
  {
   "cell_type": "code",
   "execution_count": null,
   "metadata": {
    "vscode": {
     "languageId": "r"
    }
   },
   "outputs": [],
   "source": [
    "plot1 + \n",
    "    theme_classic(\n",
    "        base_size = 18,\n",
    "        base_family = \"mono\"\n",
    "    )"
   ]
  },
  {
   "cell_type": "markdown",
   "metadata": {},
   "source": [
    "While the inbuilt themes can be a quick way to change the way your graph looks, you will probably want to customize it further. This can be done using the `theme()` layer. It is usually convenient to build your the modifications on top of an inbuilt theme. `theme_classic()` serves as a good starting point as it removes most elements which would otherwise be considered chart junk. Let's discuss some of the most commonly used parameters available to us. "
   ]
  },
  {
   "cell_type": "markdown",
   "metadata": {},
   "source": [
    "### Super parameters\n",
    "\n",
    "There are 3 \"super\" parameters. If you specify arguments for these, those would be carried over to every visual element they are mapped to. \n",
    "* `line`: Used to change _all_ line elements. This includes the axis lines, axis ticks and the panel grids. Done through the `element_line()` function. \n",
    "* `rect`: Used to change _all_ border and background elements. This includes the panel background, plot background, etc. Done through the `element_rect()` function. \n",
    "* `text`: Used to change _all_ text elements. This includes plot titles, axis titles, legend key text, etc. Done through the `element_text()` function. \n",
    "\n",
    "This [page](https://ggplot2.tidyverse.org/reference/element.html) details the full capabilities of the `element_xxx` functions. "
   ]
  },
  {
   "cell_type": "code",
   "execution_count": null,
   "metadata": {
    "vscode": {
     "languageId": "r"
    }
   },
   "outputs": [],
   "source": [
    "plot1 + \n",
    "    theme_classic() +\n",
    "    theme(\n",
    "        text = element_text(\n",
    "            size = 18,\n",
    "            color = \"blue\"\n",
    "        ),\n",
    "        rect = element_rect(\n",
    "            fill = \"grey80\",\n",
    "            color = \"green\"\n",
    "        ),\n",
    "        line = element_line(\n",
    "            size = 0.25,\n",
    "            color = \"red\"\n",
    "        )\n",
    "    )"
   ]
  },
  {
   "cell_type": "markdown",
   "metadata": {},
   "source": [
    "Let's go over each element:\n",
    "#### `text` \n",
    "\n",
    "```r\n",
    "text = element_text(\n",
    "            size = 18,\n",
    "            color = \"blue\"\n",
    "        )\n",
    "```\n",
    "We are changing the size and color of every text element in the plot. But you might have noticed that not _everything_ changes. The axis tick labels are still appearing in black. This is surprising, since the `axis.text` is supposed to inherit from the `text` parameter.  \n",
    "<br>\n",
    "\n",
    "The reason why the text formatting does not get applied to the axis tick labels is because our `theme()` function has been applied on top of the the inbuilt `theme_classic()`. `theme_classic()` applies certain axis tick label formatting which overrides what we specify in the `text` parameter. Therefore, if we want to change the axis label text, we will need to pass arguments to the `axis.text` parameter.  "
   ]
  },
  {
   "cell_type": "code",
   "execution_count": null,
   "metadata": {
    "vscode": {
     "languageId": "r"
    }
   },
   "outputs": [],
   "source": [
    "plot1 + \n",
    "    theme_classic() +\n",
    "    theme(\n",
    "        text = element_text(\n",
    "            size = 18,\n",
    "            color = \"blue\"\n",
    "        ),\n",
    "        axis.text = element_text(\n",
    "            color = \"blue\"\n",
    "        )\n",
    "    )"
   ]
  },
  {
   "cell_type": "code",
   "execution_count": null,
   "metadata": {
    "vscode": {
     "languageId": "r"
    }
   },
   "outputs": [],
   "source": [
    "plot1 + \n",
    "    theme_classic() +\n",
    "    theme(\n",
    "        text = element_text(\n",
    "            size = 18,\n",
    "            color = \"blue\"\n",
    "        ),\n",
    "        rect = element_rect(\n",
    "            fill = \"grey80\",\n",
    "            color = \"green\"\n",
    "        ),\n",
    "        line = element_line(\n",
    "            size = 0.25,\n",
    "            color = \"red\"\n",
    "        )\n",
    "    )"
   ]
  },
  {
   "cell_type": "markdown",
   "metadata": {},
   "source": [
    "#### `rect`\n",
    "\n",
    "```R\n",
    "rect = element_rect(\n",
    "            fill = \"grey80\",\n",
    "            color = \"green\"\n",
    "        )\n",
    "```\n",
    "We are changing the fill to a shade of grey and the outline to green for each element covered under `rect`. However as with `text`, you will notice that some elements, such as the panel background is unchanged. This is again because of modifications applied by `theme_classic()`. Specifying these through `panel.background` will do the trick. "
   ]
  },
  {
   "cell_type": "code",
   "execution_count": null,
   "metadata": {
    "vscode": {
     "languageId": "r"
    }
   },
   "outputs": [],
   "source": [
    "plot1 + \n",
    "    theme_classic() +\n",
    "    theme(\n",
    "        rect = element_rect(\n",
    "            fill = \"grey80\",\n",
    "            color = \"green\"\n",
    "        ),\n",
    "        panel.background = element_rect(\n",
    "            fill = \"grey80\",\n",
    "            color = \"green\"\n",
    "        )\n",
    "    )"
   ]
  },
  {
   "cell_type": "code",
   "execution_count": null,
   "metadata": {
    "vscode": {
     "languageId": "r"
    }
   },
   "outputs": [],
   "source": [
    "plot1 + \n",
    "    theme_classic() +\n",
    "    theme(\n",
    "        text = element_text(\n",
    "            size = 18,\n",
    "            color = \"blue\"\n",
    "        ),\n",
    "        rect = element_rect(\n",
    "            fill = \"grey80\",\n",
    "            color = \"green\"\n",
    "        ),\n",
    "        line = element_line(\n",
    "            size = 0.25,\n",
    "            color = \"red\"\n",
    "        )\n",
    "    )"
   ]
  },
  {
   "cell_type": "markdown",
   "metadata": {},
   "source": [
    "#### `line`\n",
    "\n",
    "```R\n",
    "line = element_line(\n",
    "            size = 0.25,\n",
    "            color = \"red\"\n",
    "        )\n",
    "```\n",
    "\n",
    "We are changing the size, which in this case is reflected as the width of the axis line and axis ticks and setting the color as red. But again, due to modifications set by `theme.classic()`, the color is not applied. To set the axis line and axis ticks as red, we will have to specify them through `axis.line` and `axis.ticks`. "
   ]
  },
  {
   "cell_type": "code",
   "execution_count": null,
   "metadata": {
    "vscode": {
     "languageId": "r"
    }
   },
   "outputs": [],
   "source": [
    "plot1 + \n",
    "    theme_classic() +\n",
    "    theme(\n",
    "        line = element_line(\n",
    "            size = 0.25,\n",
    "            color = \"red\"\n",
    "        ),\n",
    "        axis.line = element_line(\n",
    "            color = \"red\"\n",
    "        ),\n",
    "        axis.ticks = element_line(\n",
    "            color = \"red\"\n",
    "        )\n",
    "    )"
   ]
  },
  {
   "cell_type": "markdown",
   "metadata": {},
   "source": [
    "While these super parameters are a handy way to change the look of our graph very quickly, they have some limitations: \n",
    "* Inbuilt themes will override certain modifications. \n",
    "  * This can overcome by modifying the theme, will be discussed later. \n",
    "* No control over specific elements. In most use cases, you will probably want to specify exactly which elements you are interested in modifying. "
   ]
  },
  {
   "cell_type": "markdown",
   "metadata": {},
   "source": [
    "### Axis parameters"
   ]
  },
  {
   "cell_type": "markdown",
   "metadata": {},
   "source": [
    "#### Axis title\n",
    "\n",
    "Modifications are done through `element_text`. Some parameters include:\n",
    "\n",
    "* `axis.title`\n",
    "* `axis.title.x`: inherits from `axis.title`\n",
    "* `axis.title.y`: inherits from `axis.title`\n",
    "\n",
    "If you want to apply the same visual modifications to both axes, you can use `axis.title` only as `axis.title.x` and `axis.title.y` will automatically inherit those properties."
   ]
  },
  {
   "cell_type": "code",
   "execution_count": null,
   "metadata": {
    "vscode": {
     "languageId": "r"
    }
   },
   "outputs": [],
   "source": [
    "plot1 + \n",
    "    theme_classic() +\n",
    "    theme(\n",
    "        axis.title = element_text(\n",
    "            size = 20, \n",
    "            color = \"orange\"\n",
    "        )\n",
    "    )"
   ]
  },
  {
   "cell_type": "markdown",
   "metadata": {},
   "source": [
    "However if the axes are to have distinct visual modifications, you will need to use both `axis.title.x` and `axis.title.y`. "
   ]
  },
  {
   "cell_type": "code",
   "execution_count": null,
   "metadata": {
    "vscode": {
     "languageId": "r"
    }
   },
   "outputs": [],
   "source": [
    "plot1 + \n",
    "    theme_classic() +\n",
    "    theme(\n",
    "        axis.title.x = element_text(\n",
    "            size = 20, \n",
    "            color = \"orange\"\n",
    "        ), \n",
    "        axis.title.y = element_text(\n",
    "            size = 10,\n",
    "            color = \"blue\"\n",
    "        )\n",
    "    )"
   ]
  },
  {
   "cell_type": "markdown",
   "metadata": {},
   "source": [
    "#### Axis text\n",
    "\n",
    "Modifications are done through `element_text`. Some parameters include:\n",
    "\n",
    "* `axis.text`\n",
    "* `axis.text.x`: inherits from `axis.text`\n",
    "* `axis.text.y`: inherits from `axis.text`\n",
    "\n",
    "Inheritance works the same way as `axis.title`. "
   ]
  },
  {
   "cell_type": "code",
   "execution_count": null,
   "metadata": {
    "vscode": {
     "languageId": "r"
    }
   },
   "outputs": [],
   "source": [
    "plot1 + \n",
    "    theme_classic() +\n",
    "    theme(\n",
    "        axis.text = element_text(\n",
    "            size = 20\n",
    "        ), \n",
    "        axis.text.x = element_text(\n",
    "            color = \"blue\"\n",
    "        ),\n",
    "        axis.text.y = element_text(\n",
    "            color = \"orange\"\n",
    "        )\n",
    "    )"
   ]
  },
  {
   "cell_type": "markdown",
   "metadata": {},
   "source": [
    "#### Axis tick marks\n",
    "\n",
    "Modifications are done through `element_line`. Some parameters include:\n",
    "\n",
    "* `axis.ticks`\n",
    "* `axis.ticks.x`: inherits from `axis.ticks`\n",
    "* `axis.ticks.y`: inherits from `axis.ticks`\n",
    "\n",
    "Inheritance works the same way as `axis.title`. "
   ]
  },
  {
   "cell_type": "code",
   "execution_count": null,
   "metadata": {
    "vscode": {
     "languageId": "r"
    }
   },
   "outputs": [],
   "source": [
    "plot1 + \n",
    "    theme_classic() +\n",
    "    theme(\n",
    "        axis.ticks = element_line(\n",
    "            size = 5\n",
    "        ), \n",
    "        axis.ticks.x = element_line(\n",
    "            color = \"blue\"\n",
    "        ),\n",
    "        axis.ticks.y = element_line(\n",
    "            color = \"orange\"\n",
    "        )\n",
    "    )"
   ]
  },
  {
   "cell_type": "markdown",
   "metadata": {},
   "source": [
    "#### Axis tick length\n",
    "\n",
    "Modifications done through the `unit` function. Some parameters include: \n",
    "\n",
    "* `axis.ticks.length`\n",
    "* `axis.ticks.length.x`: inherits from `axis.ticks.length`\n",
    "* `axis.ticks.length.y`: inherits from `axis.ticks.length`\n",
    "\n",
    "Inheritance works the same way as `axis.title`."
   ]
  },
  {
   "cell_type": "code",
   "execution_count": null,
   "metadata": {
    "vscode": {
     "languageId": "r"
    }
   },
   "outputs": [],
   "source": [
    "plot1 + \n",
    "    theme_classic() +\n",
    "    theme(\n",
    "        axis.ticks.length.x = unit(.5, \"cm\"),\n",
    "        axis.ticks.length.y = unit(-0.5, \"cm\")\n",
    "    )"
   ]
  },
  {
   "cell_type": "markdown",
   "metadata": {},
   "source": [
    "### Legend parameters"
   ]
  },
  {
   "cell_type": "markdown",
   "metadata": {},
   "source": [
    "#### Legend background\n",
    "\n",
    "`legend.background` with `element_rect`"
   ]
  },
  {
   "cell_type": "code",
   "execution_count": null,
   "metadata": {
    "vscode": {
     "languageId": "r"
    }
   },
   "outputs": [],
   "source": [
    "plot1 + \n",
    "    theme_classic() +\n",
    "    theme(\n",
    "        legend.background = element_rect(\n",
    "            fill = \"grey85\",\n",
    "            color = \"black\",\n",
    "            linetype = 8\n",
    "        )\n",
    "    )"
   ]
  },
  {
   "cell_type": "markdown",
   "metadata": {},
   "source": [
    "#### Legend margin\n",
    "\n",
    "`legend.margin` with `margin()`"
   ]
  },
  {
   "cell_type": "code",
   "execution_count": null,
   "metadata": {
    "vscode": {
     "languageId": "r"
    }
   },
   "outputs": [],
   "source": [
    "plot1 + \n",
    "    theme_classic() +\n",
    "    theme(\n",
    "        legend.margin = margin(\n",
    "            t = 2,\n",
    "            r = 0.5,\n",
    "            b = 2,\n",
    "            l = 1, \n",
    "            unit = \"cm\"\n",
    "        )\n",
    "    )"
   ]
  },
  {
   "cell_type": "markdown",
   "metadata": {},
   "source": [
    "#### Legend spacing\n",
    "\n",
    "Modifications done through the `unit` function. Parameters include: \n",
    "\n",
    "* `legend.spacing`\n",
    "* `legend.spacing.x`: inherits from `legend.spacing`\n",
    "* `legend.spacing.y`: inherits from `legend.spacing`\n",
    "\n",
    "Inheritance works the same way as `axis.title`."
   ]
  },
  {
   "cell_type": "code",
   "execution_count": null,
   "metadata": {
    "vscode": {
     "languageId": "r"
    }
   },
   "outputs": [],
   "source": [
    "plot1 + \n",
    "    theme_classic() +\n",
    "    theme(\n",
    "        legend.spacing.x = unit(1, \"cm\"),\n",
    "        legend.spacing.y = unit(0.5, \"cm\")\n",
    "    )"
   ]
  },
  {
   "cell_type": "markdown",
   "metadata": {},
   "source": [
    "#### Legend key\n",
    "\n",
    "Background underneath the legend keys. `legend.key` with `element_rect`."
   ]
  },
  {
   "cell_type": "code",
   "execution_count": null,
   "metadata": {
    "vscode": {
     "languageId": "r"
    }
   },
   "outputs": [],
   "source": [
    "plot1 + \n",
    "    theme_classic() +\n",
    "    theme(\n",
    "        legend.key = element_rect(\n",
    "            fill = \"grey95\",\n",
    "            color = \"black\"\n",
    "        )\n",
    "    )"
   ]
  },
  {
   "cell_type": "markdown",
   "metadata": {},
   "source": [
    "#### Legend key size, height and width\n",
    "\n",
    "Use with `unit`. `legend.key.height` and `legend.key.width` inherit from `legend.key.size` or you can specify them separately. "
   ]
  },
  {
   "cell_type": "code",
   "execution_count": null,
   "metadata": {
    "vscode": {
     "languageId": "r"
    }
   },
   "outputs": [],
   "source": [
    "plot1 + \n",
    "    theme_classic() +\n",
    "    theme(\n",
    "        legend.key = element_rect(\n",
    "            fill = \"grey95\",\n",
    "            color = \"black\"\n",
    "        ),\n",
    "        legend.key.height = unit(2, \"cm\"),\n",
    "        legend.key.width = unit(1, \"cm\")\n",
    "    )"
   ]
  },
  {
   "cell_type": "markdown",
   "metadata": {},
   "source": [
    "#### Legend text\n",
    "\n",
    "Refers to the legend labels. Use `legend.text` with `element_text`. "
   ]
  },
  {
   "cell_type": "code",
   "execution_count": null,
   "metadata": {
    "vscode": {
     "languageId": "r"
    }
   },
   "outputs": [],
   "source": [
    "plot1 + \n",
    "    theme_classic() +\n",
    "    theme(\n",
    "        legend.text = element_text(\n",
    "            face = \"bold\",\n",
    "            color = \"blue\"\n",
    "        )\n",
    "    )"
   ]
  },
  {
   "cell_type": "markdown",
   "metadata": {},
   "source": [
    "#### Legend text alignment\n",
    "\n",
    "Use a number between 0 (left) and 1 (right) with `legend.text.align`. "
   ]
  },
  {
   "cell_type": "code",
   "execution_count": null,
   "metadata": {
    "vscode": {
     "languageId": "r"
    }
   },
   "outputs": [],
   "source": [
    "plot1 + \n",
    "    theme_classic() +\n",
    "    theme(\n",
    "        legend.text = element_text(\n",
    "            face = \"bold\",\n",
    "            color = \"blue\"\n",
    "        ),\n",
    "        legend.text.align = 1\n",
    "    )"
   ]
  },
  {
   "cell_type": "markdown",
   "metadata": {},
   "source": [
    "#### Legend position\n",
    "\n",
    "Changes the position of the legend. Can be used with text (\"top\", \"right\", \"bottom\", \"left\") or a numeric vector containing 2 elements. "
   ]
  },
  {
   "cell_type": "code",
   "execution_count": null,
   "metadata": {
    "vscode": {
     "languageId": "r"
    }
   },
   "outputs": [],
   "source": [
    "plot1 + \n",
    "    theme_classic() +\n",
    "    theme(\n",
    "        legend.position = \"top\"\n",
    "    )"
   ]
  },
  {
   "cell_type": "markdown",
   "metadata": {},
   "source": [
    "Use the numeric vector to place the legend inside the plot panel. "
   ]
  },
  {
   "cell_type": "code",
   "execution_count": null,
   "metadata": {
    "vscode": {
     "languageId": "r"
    }
   },
   "outputs": [],
   "source": [
    "plot1 + \n",
    "    theme_classic() +\n",
    "    theme(\n",
    "        legend.position = c(0.90, .2)\n",
    "    )"
   ]
  },
  {
   "cell_type": "markdown",
   "metadata": {},
   "source": [
    "#### Legend direction\n",
    "\n",
    "To switch between horizontal and vertical layouts. "
   ]
  },
  {
   "cell_type": "code",
   "execution_count": null,
   "metadata": {
    "vscode": {
     "languageId": "r"
    }
   },
   "outputs": [],
   "source": [
    "plot1 + \n",
    "    theme_classic() +\n",
    "    theme(\n",
    "        legend.direction = \"horizontal\"\n",
    "    )"
   ]
  },
  {
   "cell_type": "markdown",
   "metadata": {},
   "source": [
    "#### Legend justification\n",
    "\n",
    "Changes the justification of the legend. "
   ]
  },
  {
   "cell_type": "code",
   "execution_count": null,
   "metadata": {
    "vscode": {
     "languageId": "r"
    }
   },
   "outputs": [],
   "source": [
    "plot1 + \n",
    "    theme_classic() +\n",
    "    theme(\n",
    "        legend.justification = \"top\"\n",
    "    )"
   ]
  },
  {
   "cell_type": "markdown",
   "metadata": {},
   "source": [
    "#### Legend box\n",
    "\n",
    "Arrangement of multiple legend boxes, horizontal or vertical. Note the difference between this and `legend.direction`. "
   ]
  },
  {
   "cell_type": "code",
   "execution_count": null,
   "metadata": {
    "vscode": {
     "languageId": "r"
    }
   },
   "outputs": [],
   "source": [
    "plot1 + \n",
    "    theme_classic() +\n",
    "    theme(\n",
    "        legend.box = \"horizontal\"\n",
    "    )"
   ]
  },
  {
   "cell_type": "markdown",
   "metadata": {},
   "source": [
    "#### Legend box justification\n",
    "\n",
    "To change the justification of each legend within the overall legend bounding box. Used when there are multiple legends. "
   ]
  },
  {
   "cell_type": "code",
   "execution_count": null,
   "metadata": {
    "vscode": {
     "languageId": "r"
    }
   },
   "outputs": [],
   "source": [
    "plot1 + \n",
    "    theme_classic() +\n",
    "    theme(\n",
    "        legend.box.just = \"right\"\n",
    "    )"
   ]
  },
  {
   "cell_type": "markdown",
   "metadata": {},
   "source": [
    "#### Legend box margin\n",
    "\n",
    "Use `margin()` to set the margin around the overall legend area. "
   ]
  },
  {
   "cell_type": "code",
   "execution_count": null,
   "metadata": {
    "vscode": {
     "languageId": "r"
    }
   },
   "outputs": [],
   "source": [
    "plot1 + \n",
    "    theme_classic() +\n",
    "    theme(\n",
    "        legend.box.margin = margin(\n",
    "            r = 2,\n",
    "            l = 4,\n",
    "            unit = \"cm\"\n",
    "        )\n",
    "    )"
   ]
  },
  {
   "cell_type": "markdown",
   "metadata": {},
   "source": [
    "#### Legend box background\n",
    "\n",
    "Use `legend.box.background` with the `element_rect()` function to set the background of the legend. "
   ]
  },
  {
   "cell_type": "code",
   "execution_count": null,
   "metadata": {
    "vscode": {
     "languageId": "r"
    }
   },
   "outputs": [],
   "source": [
    "plot1 + \n",
    "    theme_classic() +\n",
    "    theme(\n",
    "        legend.box.background = element_rect(\n",
    "            color = \"black\",\n",
    "            size = 1\n",
    "        )\n",
    "    )"
   ]
  },
  {
   "cell_type": "markdown",
   "metadata": {},
   "source": [
    "The output does not look very good. Use `legend.box.margin` to increase the margins so that the boundary is clearly visible. "
   ]
  },
  {
   "cell_type": "code",
   "execution_count": null,
   "metadata": {
    "vscode": {
     "languageId": "r"
    }
   },
   "outputs": [],
   "source": [
    "plot1 + \n",
    "    theme_classic() +\n",
    "    theme(\n",
    "        legend.box.background = element_rect(\n",
    "            color = \"black\",\n",
    "            size = 1\n",
    "        ),\n",
    "        legend.box.margin = margin(\n",
    "            t = 0.25,\n",
    "            r = 0.25, \n",
    "            b = 0.25,\n",
    "            l = 0.25,\n",
    "            unit = \"cm\"\n",
    "        )\n",
    "    )"
   ]
  },
  {
   "cell_type": "markdown",
   "metadata": {},
   "source": [
    "#### Legend box spacing\n",
    "\n",
    "Use the `unit()` function along with `legend.box.spacing` to change the space between the legend box and plotting area. "
   ]
  },
  {
   "cell_type": "code",
   "execution_count": null,
   "metadata": {
    "vscode": {
     "languageId": "r"
    }
   },
   "outputs": [],
   "source": [
    "plot1 + \n",
    "    theme_classic() +\n",
    "    theme(\n",
    "        legend.box.background = element_rect(\n",
    "            color = \"black\",\n",
    "            size = 1\n",
    "        ),\n",
    "        legend.box.margin = margin(\n",
    "            t = 0.25,\n",
    "            r = 0.25, \n",
    "            b = 0.25,\n",
    "            l = 0.25,\n",
    "            unit = \"cm\"\n",
    "        ),\n",
    "        legend.box.spacing = unit(1.5, \"cm\")\n",
    "    )"
   ]
  },
  {
   "cell_type": "markdown",
   "metadata": {},
   "source": [
    "### Panel parameters\n",
    "\n",
    "#### Panel background\n",
    "\n",
    "Use `panel.background` with `element_rect` to change the background of the panel. Note that this is drawn underneath the plot that you have created. It is advisable to use the `fill` parameter with `NA` as argument so that the visualization is not distorted.  "
   ]
  },
  {
   "cell_type": "code",
   "execution_count": null,
   "metadata": {
    "vscode": {
     "languageId": "r"
    }
   },
   "outputs": [],
   "source": [
    "plot1 + \n",
    "    theme_classic() +\n",
    "    theme(\n",
    "        panel.background = element_rect(\n",
    "            color = \"black\",\n",
    "            size = 1.5,\n",
    "            fill = NA\n",
    "        )\n",
    "    )"
   ]
  },
  {
   "cell_type": "markdown",
   "metadata": {},
   "source": [
    "##### Panel border\n",
    "\n",
    "`panel.border` behaves quite similarly to `panel.background`, with the difference between that the former draws on top of the plot. As you can see below, the axis line have been drawn over. Again, it is advisable to specify `fill` as `NA` so that the data is not distorted. "
   ]
  },
  {
   "cell_type": "code",
   "execution_count": null,
   "metadata": {
    "vscode": {
     "languageId": "r"
    }
   },
   "outputs": [],
   "source": [
    "plot1 + \n",
    "    theme_classic() +\n",
    "    theme(\n",
    "        panel.border = element_rect(\n",
    "            color = \"blue\",\n",
    "            size = 1.5,\n",
    "            fill = \"NA\"\n",
    "        )\n",
    "    )"
   ]
  },
  {
   "cell_type": "markdown",
   "metadata": {},
   "source": [
    "#### Panel grids\n",
    "\n",
    "To change the grid lines on the plot. Use with `element_line`.\n",
    "\n",
    "Available parameters:\n",
    "* `panel.grid`\n",
    "* `panel.grid.major`: inherits from `panel.grid`\n",
    "* `panel.grid.minor`: inherits from `panel.grid`\n",
    "* `panel.grid.major.x`: inherits from `panel.grid.major`\n",
    "* `panel.grid.major.y`: inherits from `panel.grid.major`\n",
    "* `panel.grid.minor.x`: inherits from `panel.grid.minor`\n",
    "* `panel.grid.minor.y`: inherits from `panel.grid.minor`\n",
    "\n",
    "Inheritance works as expected. "
   ]
  },
  {
   "cell_type": "code",
   "execution_count": null,
   "metadata": {
    "vscode": {
     "languageId": "r"
    }
   },
   "outputs": [],
   "source": [
    "plot1 + \n",
    "    theme_classic() +\n",
    "    theme(\n",
    "        panel.grid.major.x = element_line(\n",
    "            color = \"grey85\",\n",
    "            size = 0.25\n",
    "        ),\n",
    "        panel.grid.minor.y = element_line(\n",
    "            color = \"blue\",\n",
    "            size = 0.25\n",
    "        )\n",
    "    )"
   ]
  },
  {
   "cell_type": "markdown",
   "metadata": {},
   "source": [
    "### Plot parameters\n",
    "\n",
    "#### Plot background\n",
    "\n",
    "Use `plot.background` with `element_rect` to change the background of the entire plot. "
   ]
  },
  {
   "cell_type": "code",
   "execution_count": null,
   "metadata": {
    "vscode": {
     "languageId": "r"
    }
   },
   "outputs": [],
   "source": [
    "plot1 + \n",
    "    theme_classic() +\n",
    "    theme(\n",
    "        plot.background = element_rect(\n",
    "            color = \"blue\",\n",
    "            fill = \"grey95\"\n",
    "        )\n",
    "    )"
   ]
  },
  {
   "cell_type": "markdown",
   "metadata": {},
   "source": [
    "#### Title, subtitle and caption\n",
    "\n",
    "Use `plot.title`, `plot.subtitle` and `plot.caption` to change the appearance of the title, subtitle and caption respectively. Changes done through `element_text`. "
   ]
  },
  {
   "cell_type": "code",
   "execution_count": null,
   "metadata": {
    "vscode": {
     "languageId": "r"
    }
   },
   "outputs": [],
   "source": [
    "plot1 + \n",
    "    theme_classic() +\n",
    "    theme(\n",
    "        plot.title = element_text(\n",
    "            size = 15,\n",
    "            face = \"bold\",\n",
    "            hjust = 0.5\n",
    "        ),\n",
    "        plot.subtitle = element_text(\n",
    "            size = 12,\n",
    "            face = \"italic\",\n",
    "            hjust = 1,\n",
    "            color = \"blue\"\n",
    "        ),\n",
    "        plot.caption = element_text(\n",
    "            vjust = 1,\n",
    "            hjust = 0\n",
    "        )\n",
    "    )"
   ]
  },
  {
   "cell_type": "markdown",
   "metadata": {},
   "source": [
    "#### Plot margin\n",
    "\n",
    "Plot margins can be changed to add space around the plot. Use the `unit()` function. "
   ]
  },
  {
   "cell_type": "code",
   "execution_count": null,
   "metadata": {
    "vscode": {
     "languageId": "r"
    }
   },
   "outputs": [],
   "source": [
    "plot1 + \n",
    "    theme_classic() +\n",
    "    theme(\n",
    "        plot.margin = unit(\n",
    "            c(1,1,1,1), \n",
    "            \"cm\"\n",
    "        )\n",
    "    )"
   ]
  },
  {
   "cell_type": "markdown",
   "metadata": {},
   "source": [
    "### Removing an element\n",
    "\n",
    "Finally, if you have added an element but would like to remove it, you can do so from within the `theme` function by setting the relevant parament to `element_blank()`. Suppose we want to remove the legends titles. "
   ]
  },
  {
   "cell_type": "code",
   "execution_count": null,
   "metadata": {
    "vscode": {
     "languageId": "r"
    }
   },
   "outputs": [],
   "source": [
    "plot1 + \n",
    "    theme_classic() +\n",
    "    theme(\n",
    "        legend.title = element_blank()\n",
    "    )"
   ]
  },
  {
   "cell_type": "markdown",
   "metadata": {},
   "source": [
    "### Final graph\n",
    "\n",
    "We will now recreate the graph according to IDinsight formatting. If you are interested in using the Inter font, you will have add it to R using the `showtext` package as it is not available by default. Since Inter is a google font, we can add it easily using the `font_add_google()` function.   "
   ]
  },
  {
   "cell_type": "code",
   "execution_count": null,
   "metadata": {
    "vscode": {
     "languageId": "r"
    }
   },
   "outputs": [],
   "source": [
    "library('showtext')\n",
    "\n",
    "font_add_google(\"Inter\", \"Inter\")\n",
    "\n",
    "showtext_auto()"
   ]
  },
  {
   "cell_type": "markdown",
   "metadata": {},
   "source": [
    "Changing the colors vector to contain IDinsight brand colors and then creating the plot. "
   ]
  },
  {
   "cell_type": "code",
   "execution_count": null,
   "metadata": {
    "vscode": {
     "languageId": "r"
    }
   },
   "outputs": [],
   "source": [
    "colors <- c(\"0\" = \"#A8BFEB\", \"1\" = \"#173363\")\n",
    "\n",
    "final_plot <- ggplot(mydata, aes(x = total_bl_villavg, y = total_ely3_villavg)) +\n",
    "       geom_point(aes(color = factor(treatment)), na.rm = TRUE) +\n",
    "       geom_smooth(method = lm, formula = y ~ x, na.rm = TRUE) +\n",
    "       scale_x_continuous(breaks = seq(from = 4, to = 12, by = 1.5)) +\n",
    "       scale_y_continuous(breaks = seq(from = 5, to = 16, by = 1.5)) +\n",
    "       scale_color_manual(\n",
    "              values = colors,\n",
    "              labels = labs,\n",
    "              name = \"Group\"\n",
    "       ) +\n",
    "       guides(\n",
    "              color = guide_legend(title = \"Group\")\n",
    "       ) +\n",
    "       labs(\n",
    "              title = \"Correlation between Baseline and Endline 3 scores\",\n",
    "              x = \"Baseline total\",\n",
    "              y = \"Endline Year 3 total\",\n",
    "              caption = \"Source: EG DIB Dataset\"\n",
    "       )"
   ]
  },
  {
   "cell_type": "markdown",
   "metadata": {},
   "source": [
    "Adding the theme. "
   ]
  },
  {
   "cell_type": "code",
   "execution_count": null,
   "metadata": {
    "vscode": {
     "languageId": "r"
    }
   },
   "outputs": [],
   "source": [
    "final_plot <- final_plot + \n",
    "    theme_classic() +\n",
    "    theme(\n",
    "        text = element_text(\n",
    "            family = \"Inter\"\n",
    "        ),\n",
    "        axis.text = element_text(\n",
    "            size = 12\n",
    "        ),\n",
    "        axis.title = element_text(\n",
    "            size = 14\n",
    "        ),\n",
    "        legend.box.background = element_rect(\n",
    "            color = \"black\"\n",
    "        ),\n",
    "        legend.box.margin = margin(\n",
    "              t = 0.5,\n",
    "              r = 0.5,\n",
    "              b = 0.5, \n",
    "              l = 0.5,\n",
    "              unit = \"pt\"\n",
    "        ),\n",
    "        legend.box = \"horizontal\",\n",
    "        legend.position = c(0.9, 0.1),\n",
    "        legend.text = element_text(\n",
    "            size = 10\n",
    "        ),\n",
    "        plot.title = element_text(\n",
    "            size = 17,\n",
    "            hjust = 0.5\n",
    "        ),\n",
    "        plot.caption = element_text(\n",
    "            size = 10,\n",
    "            vjust = -1,\n",
    "            hjust = 0\n",
    "        )\n",
    "    )"
   ]
  },
  {
   "cell_type": "markdown",
   "metadata": {},
   "source": [
    "#### Adding the IDinsight logo\n",
    "\n",
    "An optional final step would be to add the IDinsight logo to the bottom right corner of the plot. This relies on loading the logo as an image and then applying it to the plot. You will need the `magick` and `grid` packages. "
   ]
  },
  {
   "cell_type": "code",
   "execution_count": null,
   "metadata": {
    "vscode": {
     "languageId": "r"
    }
   },
   "outputs": [],
   "source": [
    "library('magick')\n",
    "library('grid')\n",
    "\n",
    "final_plot\n",
    "\n",
    "logo <- image_read(\"https://github.com/arkadeep/R-Bootcamp-Data-Visualization/blob/main/Assets/1_images/IDi-Logo-Master-RGB-Dark-Blue-long.png?raw=true\")\n",
    "\n",
    "grid.raster(logo, x = 0.935, y = 0.025, width = unit(1, 'inch'))"
   ]
  },
  {
   "cell_type": "markdown",
   "metadata": {},
   "source": [
    "#### "
   ]
  },
  {
   "cell_type": "markdown",
   "metadata": {},
   "source": [
    "## Next steps\n",
    "\n",
    "In the upcoming lessons, we will go over how to create some other common visualizations, such as Bar graphs, Line graphs, Histograms and Kernel density graphs. "
   ]
  },
  {
   "cell_type": "markdown",
   "metadata": {},
   "source": [
    "## Notes\n",
    "\n",
    "You can check out the `ggthemes` package to greatly extend the number of themes available to use. "
   ]
  }
 ],
 "metadata": {
  "kernelspec": {
   "display_name": "R",
   "language": "R",
   "name": "ir"
  },
  "language_info": {
   "codemirror_mode": "r",
   "file_extension": ".r",
   "mimetype": "text/x-r-source",
   "name": "R",
   "pygments_lexer": "r",
   "version": "4.0.3"
  },
  "vscode": {
   "interpreter": {
    "hash": "aee8b7b246df8f9039afb4144a1f6fd8d2ca17a180786b69acc140d282b71a49"
   }
  }
 },
 "nbformat": 4,
 "nbformat_minor": 2
}
