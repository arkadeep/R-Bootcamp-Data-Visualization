{
 "cells": [
  {
   "cell_type": "markdown",
   "metadata": {},
   "source": [
    "# Data visualizations using R"
   ]
  },
  {
   "cell_type": "markdown",
   "metadata": {},
   "source": [
    "## Customizing `ggplot` graphs #2\n",
    "\n",
    "In this lesson, we will discuss non-data visual changes to our graphs using the `theme()` layer.  \n",
    "Let's start by recreating the graph from the previous section. "
   ]
  },
  {
   "cell_type": "code",
   "execution_count": 1,
   "metadata": {
    "vscode": {
     "languageId": "r"
    }
   },
   "outputs": [
    {
     "name": "stderr",
     "output_type": "stream",
     "text": [
      "── \u001b[1mAttaching packages\u001b[22m ───────────────────────────────────── tidyverse 1.3.1 ──\n",
      "\n",
      "\u001b[32m✔\u001b[39m \u001b[34mggplot2\u001b[39m 3.3.6     \u001b[32m✔\u001b[39m \u001b[34mpurrr  \u001b[39m 0.3.4\n",
      "\u001b[32m✔\u001b[39m \u001b[34mtibble \u001b[39m 3.1.7     \u001b[32m✔\u001b[39m \u001b[34mdplyr  \u001b[39m 1.0.9\n",
      "\u001b[32m✔\u001b[39m \u001b[34mtidyr  \u001b[39m 1.2.0     \u001b[32m✔\u001b[39m \u001b[34mstringr\u001b[39m 1.4.0\n",
      "\u001b[32m✔\u001b[39m \u001b[34mreadr  \u001b[39m 2.1.2     \u001b[32m✔\u001b[39m \u001b[34mforcats\u001b[39m 0.5.1\n",
      "\n",
      "Warning message:\n",
      "“package ‘tidyr’ was built under R version 4.0.5”\n",
      "Warning message:\n",
      "“package ‘readr’ was built under R version 4.0.5”\n",
      "── \u001b[1mConflicts\u001b[22m ──────────────────────────────────────── tidyverse_conflicts() ──\n",
      "\u001b[31m✖\u001b[39m \u001b[34mdplyr\u001b[39m::\u001b[32mfilter()\u001b[39m masks \u001b[34mstats\u001b[39m::filter()\n",
      "\u001b[31m✖\u001b[39m \u001b[34mdplyr\u001b[39m::\u001b[32mlag()\u001b[39m    masks \u001b[34mstats\u001b[39m::lag()\n",
      "\n"
     ]
    }
   ],
   "source": [
    "library('tidyverse')\n",
    "\n",
    "mydata <- read_csv(\"~/Dropbox (IDinsight)/Data visualization library/Data/EG_DIB.csv\", show_col_types = FALSE)\n",
    "mydata$district <- factor(sample.int(3, nrow(mydata), replace = T))\n",
    "\n",
    "plot1 <- ggplot(mydata, aes(x = total_bl_villavg, y = total_ely3_villavg)) +\n",
    "                geom_point(aes(color = factor(treatment), shape = district), na.rm = TRUE) +\n",
    "                geom_smooth(method = lm, formula = y ~ x, na.rm = TRUE) + \n",
    "                scale_x_continuous(breaks = seq(from = 4, to = 12, by = 1.5)) +\n",
    "                scale_y_continuous(breaks = seq(from = 5, to = 16, by = 1.5)) + \n",
    "                scale_color_manual(values = colors, \n",
    "                                   labels = labs,\n",
    "                                   name = \"Group\") + \n",
    "                labs(title = \"Our graph\",\n",
    "                     subtitle = \"Our graph has a subtitle\",\n",
    "                     caption = \"A caption too!\",\n",
    "                     x = \"Baseline total\",\n",
    "                     y = \"Endline Year 3 total\")"
   ]
  },
  {
   "cell_type": "code",
   "execution_count": null,
   "metadata": {},
   "outputs": [],
   "source": []
  }
 ],
 "metadata": {
  "kernelspec": {
   "display_name": "R",
   "language": "R",
   "name": "ir"
  },
  "language_info": {
   "codemirror_mode": "r",
   "file_extension": ".r",
   "mimetype": "text/x-r-source",
   "name": "R",
   "pygments_lexer": "r",
   "version": "4.0.3"
  },
  "vscode": {
   "interpreter": {
    "hash": "aee8b7b246df8f9039afb4144a1f6fd8d2ca17a180786b69acc140d282b71a49"
   }
  }
 },
 "nbformat": 4,
 "nbformat_minor": 2
}
